{
  "nbformat": 4,
  "nbformat_minor": 0,
  "metadata": {
    "colab": {
      "provenance": []
    },
    "kernelspec": {
      "name": "python3",
      "display_name": "Python 3"
    },
    "language_info": {
      "name": "python"
    }
  },
  "cells": [
    {
      "cell_type": "markdown",
      "source": [
        "#Senior Studies Institute HTML Schedule Translator\n",
        "\n",
        "*by Michael Trigoboff*\n",
        "<br/><br/>\n",
        "\n",
        "This **Jupyter Notebook** will create an HTML version of a Microsoft Word file continuing the latest Senior Studies Institute class schedule. It consists of **text cells** like this which contain instructions to help you understand what to do, and **code cells** that will create an HTML schedule for you.\n",
        "\n",
        "Below this text cell you will see the first code cell. You run the code in a code cell by clicking on the circular symbol that will appear within the square brackets at the top left of the cell when you hover your mouse between them.\n",
        "\n",
        "You need to run these code cells in order, from top to bottom. Run the first one now."
      ],
      "metadata": {
        "id": "OFsC33p5Hlro"
      }
    },
    {
      "cell_type": "code",
      "source": [
        "# set up the software\n",
        "! rm -rf sample_data\n",
        "! rm -rf *.py *.txt *.html\n",
        "! rm -rf ssi_schedule\n",
        "! git config --global init.defaultBranch main\n",
        "! git config --global advice.detachedHead false\n",
        "! git clone https://github.com/mtrigoboff/ssi_schedule\n",
        "! mv ssi_schedule/html_translator.py .\n",
        "! rm -rf ssi_schedule"
      ],
      "metadata": {
        "id": "xo7mgiqUCSXW",
        "collapsed": true
      },
      "execution_count": null,
      "outputs": []
    },
    {
      "cell_type": "markdown",
      "source": [
        "Before you run the next code cell, you need to open up the Microsoft Word document containing the schedule and do a **Save As** to save it as a **Plain Text** file. For example, if the word file is named **FallSchedule.docx**, save the text file as **FallSchedule.txt**.\n",
        "\n",
        "You need to choose US-ASCII as the encoding, as shown in [this image](https://drive.google.com/file/d/1mH9fMaUn_c40cDfvVWfr7tZ_5ZL60h1X/view?usp=sharing).\n",
        "\n",
        "Now run the next code cell. A button saying **Choose Files** will appear. Click it and a file browser will open. Navigate to the text file you just created, and select it."
      ],
      "metadata": {
        "id": "EdH2COpOLMD8"
      }
    },
    {
      "cell_type": "code",
      "source": [
        "# upload an ssi schedule .txt file\n",
        "! rm -rf *.txt\n",
        "\n",
        "from google.colab import files\n",
        "uploads = files.upload()\n",
        "schedule_file_name = list(uploads.keys())[0]\n",
        "print(f'uploaded file: {schedule_file_name}')"
      ],
      "metadata": {
        "id": "X4YVQROTDya1"
      },
      "execution_count": null,
      "outputs": []
    },
    {
      "cell_type": "markdown",
      "source": [
        "The next code cell will read the text file you just uploaded and create two new new files. If you uploaded **FallSchedule.txt**, it will create **FallSchedule.html** and **FallSchedule.skipped_lines.txt**.\n",
        "\n",
        "The **.html** file is what you can add to the SSI website. The **.skipped_lines.txt** file contains the lines that the html translator did not know what to do with.\n",
        "\n",
        "If any of those skipped lines contain important information and you know HTML, you can add them manually to the HTML file. Otherwise, you can communicate with the person in charge of the website, who can either add them manually or get someone with the required knowledge to upgrade the translator **Python** code."
      ],
      "metadata": {
        "id": "HHo060quPcS7"
      }
    },
    {
      "cell_type": "code",
      "source": [
        "import html_translator\n",
        "\n",
        "result_files = html_translator.translate(schedule_file_name)\n",
        "print(f'translated html file: {result_files[0]}')\n",
        "print(f'skipped lines file:   {result_files[1]}')"
      ],
      "metadata": {
        "id": "8sk6LqC1RZ_9"
      },
      "execution_count": null,
      "outputs": []
    },
    {
      "cell_type": "markdown",
      "source": [
        "The next code cell will download the two files that were just created to your local machine. A file system browser window will open for each of the two files You can then use these files to update the schedule on the SSI website."
      ],
      "metadata": {
        "id": "tPWdvXWLSy_k"
      }
    },
    {
      "cell_type": "code",
      "source": [
        "print(f'downloaded translated html file: {result_files[0]}')\n",
        "files.download(result_files[0])\n",
        "print(f'downloaded skipped lines file:   {result_files[1]}')\n",
        "files.download(result_files[1])"
      ],
      "metadata": {
        "id": "jDci9yKXTJfB"
      },
      "execution_count": null,
      "outputs": []
    }
  ]
}