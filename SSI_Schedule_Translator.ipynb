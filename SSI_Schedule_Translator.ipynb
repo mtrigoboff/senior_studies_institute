{
  "nbformat": 4,
  "nbformat_minor": 0,
  "metadata": {
    "colab": {
      "provenance": []
    },
    "kernelspec": {
      "name": "python3",
      "display_name": "Python 3"
    },
    "language_info": {
      "name": "python"
    }
  },
  "cells": [
    {
      "cell_type": "markdown",
      "source": [
        "#Senior Studies Institute HTML Schedule Translator\n",
        "\n",
        "*by Michael Trigoboff*\n",
        "<br/><br/>\n",
        "\n",
        "This **Jupyter Notebook** will create an HTML version of a Microsoft Word file continuing the latest Senior Studies Institute class schedule. It consists of **text cells** like this which contain instructions to help you understand what to do, and **code cells** that will create an HTML schedule for you.\n",
        "\n",
        "Below this text cell you will see the first code cell. You run the code in a code cell by clicking on the circular symbol that will appear within the square brackets at the top left of the cell when you hover your mouse between them.\n",
        "\n",
        "You need to run these code cells in order, from top to bottom. Run the first one now."
      ],
      "metadata": {
        "id": "OFsC33p5Hlro"
      }
    },
    {
      "cell_type": "code",
      "source": [
        "# set up the software\n",
        "! rm -rf sample_data\n",
        "! rm -rf *.py *.txt *.html\n",
        "! rm -rf ssi_schedule\n",
        "! git config --global init.defaultBranch main\n",
        "! git config --global advice.detachedHead false\n",
        "! git clone https://github.com/mtrigoboff/ssi_schedule\n",
        "! mv ssi_schedule/html_translator.py .\n",
        "! mv ssi_schedule/save_as_ascii.png .\n",
        "! rm -rf ssi_schedule"
      ],
      "metadata": {
        "id": "xo7mgiqUCSXW"
      },
      "execution_count": null,
      "outputs": []
    },
    {
      "cell_type": "markdown",
      "source": [
        "Before you run the next code cell, you need to open up the Microsoft Word document containing the schedule and do a **Save As** to save it as a text file. For example, if the word file is named **FallSchedule.docx**, save the text file as **FallSchedule.txt**.\n",
        "\n",
        "You need to choose US-ASCII as the encoding, as shown in the image below:\n",
        "\n",
        "![Mirosoft Word text export encoding chooser](https://drive.google.com/file/d/1mH9fMaUn_c40cDfvVWfr7tZ_5ZL60h1X/view?usp=sharing)\n",
        "\n",
        "*Due to a bug in this environment, the image may not appear.*\n",
        "\n",
        "Now run the next code cell. A button saying **Choose Files** will appear. Click it and a file browser will open. Navigate to the text file you just created, and select it."
      ],
      "metadata": {
        "id": "EdH2COpOLMD8"
      }
    },
    {
      "cell_type": "code",
      "source": [
        "# upload an ssi schedule .txt file\n",
        "! rm -rf *.txt\n",
        "\n",
        "from google.colab import files\n",
        "uploads = files.upload()\n",
        "schedule_file_name = list(uploads.keys())[0]\n",
        "print(f'uploaded file: {schedule_file_name}')"
      ],
      "metadata": {
        "id": "X4YVQROTDya1"
      },
      "execution_count": null,
      "outputs": []
    },
    {
      "cell_type": "markdown",
      "source": [
        "The next code cell will read the text file you just uploaded and create two new new files. If you uploaded **FallSchedule.txt**, it will create **FallSchedule.html** and **FallSchedule.skipped_lines.txt**.\n",
        "\n",
        "The **.html** file is what you can add to the SSI website. The **.skipped_lines.txt** file contains lines that the translator did not know what to do with. If any of those skipped lines contain important information and you know HTML, you can add them manually to the HTML file. Otherwise, you can communicate with the person in charge of the website, who can either add them manually or get someone with the required knowledge to upgrade the translator **Python** code."
      ],
      "metadata": {
        "id": "HHo060quPcS7"
      }
    },
    {
      "cell_type": "code",
      "source": [
        "import html_translator\n",
        "\n",
        "result_files = html_translator.translate(schedule_file_name)"
      ],
      "metadata": {
        "id": "8sk6LqC1RZ_9"
      },
      "execution_count": null,
      "outputs": []
    },
    {
      "cell_type": "markdown",
      "source": [
        "The next code cell will download the two files that were just created to your local machine. A file system browser window will open for each of the two files You can then use those files to update the schedule on the SSI website."
      ],
      "metadata": {
        "id": "tPWdvXWLSy_k"
      }
    },
    {
      "cell_type": "code",
      "source": [
        "files.download(result_files[0])\n",
        "files.download(result_files[1])"
      ],
      "metadata": {
        "id": "jDci9yKXTJfB",
        "colab": {
          "base_uri": "https://localhost:8080/",
          "height": 17
        },
        "outputId": "6e3dcfbd-c858-4845-8b3f-dc4c082a0d33"
      },
      "execution_count": null,
      "outputs": [
        {
          "output_type": "display_data",
          "data": {
            "text/plain": [
              "<IPython.core.display.Javascript object>"
            ],
            "application/javascript": [
              "\n",
              "    async function download(id, filename, size) {\n",
              "      if (!google.colab.kernel.accessAllowed) {\n",
              "        return;\n",
              "      }\n",
              "      const div = document.createElement('div');\n",
              "      const label = document.createElement('label');\n",
              "      label.textContent = `Downloading \"${filename}\": `;\n",
              "      div.appendChild(label);\n",
              "      const progress = document.createElement('progress');\n",
              "      progress.max = size;\n",
              "      div.appendChild(progress);\n",
              "      document.body.appendChild(div);\n",
              "\n",
              "      const buffers = [];\n",
              "      let downloaded = 0;\n",
              "\n",
              "      const channel = await google.colab.kernel.comms.open(id);\n",
              "      // Send a message to notify the kernel that we're ready.\n",
              "      channel.send({})\n",
              "\n",
              "      for await (const message of channel.messages) {\n",
              "        // Send a message to notify the kernel that we're ready.\n",
              "        channel.send({})\n",
              "        if (message.buffers) {\n",
              "          for (const buffer of message.buffers) {\n",
              "            buffers.push(buffer);\n",
              "            downloaded += buffer.byteLength;\n",
              "            progress.value = downloaded;\n",
              "          }\n",
              "        }\n",
              "      }\n",
              "      const blob = new Blob(buffers, {type: 'application/binary'});\n",
              "      const a = document.createElement('a');\n",
              "      a.href = window.URL.createObjectURL(blob);\n",
              "      a.download = filename;\n",
              "      div.appendChild(a);\n",
              "      a.click();\n",
              "      div.remove();\n",
              "    }\n",
              "  "
            ]
          },
          "metadata": {}
        },
        {
          "output_type": "display_data",
          "data": {
            "text/plain": [
              "<IPython.core.display.Javascript object>"
            ],
            "application/javascript": [
              "download(\"download_291d4bb7-b390-4823-8ff5-120549a61961\", \"2025FallClassSchedule.usASCII.html\", 28129)"
            ]
          },
          "metadata": {}
        },
        {
          "output_type": "display_data",
          "data": {
            "text/plain": [
              "<IPython.core.display.Javascript object>"
            ],
            "application/javascript": [
              "\n",
              "    async function download(id, filename, size) {\n",
              "      if (!google.colab.kernel.accessAllowed) {\n",
              "        return;\n",
              "      }\n",
              "      const div = document.createElement('div');\n",
              "      const label = document.createElement('label');\n",
              "      label.textContent = `Downloading \"${filename}\": `;\n",
              "      div.appendChild(label);\n",
              "      const progress = document.createElement('progress');\n",
              "      progress.max = size;\n",
              "      div.appendChild(progress);\n",
              "      document.body.appendChild(div);\n",
              "\n",
              "      const buffers = [];\n",
              "      let downloaded = 0;\n",
              "\n",
              "      const channel = await google.colab.kernel.comms.open(id);\n",
              "      // Send a message to notify the kernel that we're ready.\n",
              "      channel.send({})\n",
              "\n",
              "      for await (const message of channel.messages) {\n",
              "        // Send a message to notify the kernel that we're ready.\n",
              "        channel.send({})\n",
              "        if (message.buffers) {\n",
              "          for (const buffer of message.buffers) {\n",
              "            buffers.push(buffer);\n",
              "            downloaded += buffer.byteLength;\n",
              "            progress.value = downloaded;\n",
              "          }\n",
              "        }\n",
              "      }\n",
              "      const blob = new Blob(buffers, {type: 'application/binary'});\n",
              "      const a = document.createElement('a');\n",
              "      a.href = window.URL.createObjectURL(blob);\n",
              "      a.download = filename;\n",
              "      div.appendChild(a);\n",
              "      a.click();\n",
              "      div.remove();\n",
              "    }\n",
              "  "
            ]
          },
          "metadata": {}
        },
        {
          "output_type": "display_data",
          "data": {
            "text/plain": [
              "<IPython.core.display.Javascript object>"
            ],
            "application/javascript": [
              "download(\"download_e0ba6851-b354-49bb-83b7-e7ca9cd3a84e\", \"2025FallClassSchedule.usASCII.skipped_lines.txt\", 6781)"
            ]
          },
          "metadata": {}
        }
      ]
    }
  ]
}